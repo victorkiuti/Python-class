{
  "nbformat": 4,
  "nbformat_minor": 0,
  "metadata": {
    "colab": {
      "provenance": [],
      "toc_visible": true,
      "authorship_tag": "ABX9TyOKBTQkhJitAcYwuhbDEd5w",
      "include_colab_link": true
    },
    "kernelspec": {
      "name": "python3",
      "display_name": "Python 3"
    },
    "language_info": {
      "name": "python"
    }
  },
  "cells": [
    {
      "cell_type": "markdown",
      "metadata": {
        "id": "view-in-github",
        "colab_type": "text"
      },
      "source": [
        "<a href=\"https://colab.research.google.com/github/victorkiuti/Python-class/blob/main/Functions.ipynb\" target=\"_parent\"><img src=\"https://colab.research.google.com/assets/colab-badge.svg\" alt=\"Open In Colab\"/></a>"
      ]
    },
    {
      "cell_type": "code",
      "execution_count": 16,
      "metadata": {
        "id": "Jy55Spksnu68"
      },
      "outputs": [],
      "source": [
        "# Video fuction\n",
        "\n",
        "# QUESTION 1\n",
        "\n",
        "# What is the value of c after the following block of code is run ?\n",
        "\n",
        "a=1\n",
        "\n",
        "def add(b):\n",
        "  return a+b\n",
        "\n",
        "  c=add(10)\n",
        "  print(c)"
      ]
    },
    {
      "cell_type": "markdown",
      "source": [
        "# Lab Activity"
      ],
      "metadata": {
        "id": "iYRwH9MI7v_B"
      }
    },
    {
      "cell_type": "code",
      "source": [
        "#QUESTION 2\n",
        "\n",
        "# What is the value of c after the following block of code is run with proper numerical input?\n",
        "\n",
        "def f(*x):\n",
        "  return sum(x)"
      ],
      "metadata": {
        "id": "CMjeh1g_w9kK"
      },
      "execution_count": 7,
      "outputs": []
    },
    {
      "cell_type": "code",
      "source": [
        "#Come up with a function that divides the first input by the second input:\n",
        "\n",
        "def div(a,b):\n",
        "    c= a/b\n",
        "    return print (c)\n",
        "\n",
        "div (1,3)"
      ],
      "metadata": {
        "colab": {
          "base_uri": "https://localhost:8080/"
        },
        "id": "miLNR6nR0AbQ",
        "outputId": "c51e310e-e7d6-4dc6-e3f8-015834355318"
      },
      "execution_count": 13,
      "outputs": [
        {
          "output_type": "stream",
          "name": "stdout",
          "text": [
            "0.3333333333333333\n"
          ]
        }
      ]
    },
    {
      "cell_type": "code",
      "source": [
        "#Can the con function we defined before be used to add two integers or strings?\n",
        "\n",
        "def con(a, b):\n",
        "    return(a + b)\n",
        "\n",
        "con (\"d\",\"e\")\n",
        "#con (1,2)\n",
        "\n",
        "#Yes, it can used as two integers or strings"
      ],
      "metadata": {
        "colab": {
          "base_uri": "https://localhost:8080/",
          "height": 35
        },
        "id": "yCbnkCP50Flb",
        "outputId": "b6d92f3e-1be0-491f-dfbc-e0aa1a16e5ef"
      },
      "execution_count": 19,
      "outputs": [
        {
          "output_type": "execute_result",
          "data": {
            "text/plain": [
              "'de'"
            ],
            "application/vnd.google.colaboratory.intrinsic+json": {
              "type": "string"
            }
          },
          "metadata": {},
          "execution_count": 19
        }
      ]
    },
    {
      "cell_type": "code",
      "source": [
        "#Can the con function we defined before be used to concatenate lists or tuples?\n",
        "\n",
        "con ([\"boo\",2] , [\"test\",5])\n",
        "\n",
        "#Yes, the fuction concatenate the lists."
      ],
      "metadata": {
        "colab": {
          "base_uri": "https://localhost:8080/"
        },
        "id": "Hrs-U2f212RD",
        "outputId": "d7d764a8-c5e3-4436-ed15-75a9b38a99d9"
      },
      "execution_count": 20,
      "outputs": [
        {
          "output_type": "execute_result",
          "data": {
            "text/plain": [
              "['boo', 2, 'test', 5]"
            ]
          },
          "metadata": {},
          "execution_count": 20
        }
      ]
    },
    {
      "cell_type": "code",
      "source": [
        "from collections import Counter\n",
        "#Write a function code to find total count of word little in the given string:\n",
        "\n",
        "#(\"Mary had a little lamb Little lamb, little lamb Mary had a little lamb.Its fleece was white as snow And everywhere that Mary went Mary went, Mary went Everywhere that Mary went The lamb was sure to go\")\n",
        "\n",
        "def l(string):\n",
        "  string = string.lower()\n",
        "  text = ()\n",
        "  text = string.split()\n",
        "  fcounts = text.count(\"little\")\n",
        "  return fcounts\n",
        "\n",
        "l (\"Mary had a little lamb Little lamb, little lamb Mary had a little lamb.Its fleece was white as snow And everywhere that Mary went Mary went, Mary went Everywhere that Mary went The lamb was sure to go\")"
      ],
      "metadata": {
        "colab": {
          "base_uri": "https://localhost:8080/"
        },
        "id": "xBMKRPjV2Y33",
        "outputId": "d818c67a-5aa7-426e-8f77-fd6191eb7989"
      },
      "execution_count": 41,
      "outputs": [
        {
          "output_type": "execute_result",
          "data": {
            "text/plain": [
              "4"
            ]
          },
          "metadata": {},
          "execution_count": 41
        }
      ]
    }
  ]
}